{
 "cells": [
  {
   "cell_type": "code",
   "execution_count": 3,
   "metadata": {},
   "outputs": [
    {
     "name": "stdout",
     "output_type": "stream",
     "text": [
      "For a 30-year loan of $1,000,000,000,000.00 at an annual interest rate of 7.5% you pay \n",
      " \n",
      " \n",
      "$ 6,992,145,085.53 monthly\n",
      "\n",
      "-------------------------------------------\n",
      "\n",
      "Total amount to be paid will be $ 2,517,172,230,790.00\n",
      "\n",
      "-------------------------------------------\n",
      "\n"
     ]
    }
   ],
   "source": [
    "\n",
    "# Total_monthly_payment Formula = p * r * (1+r)^n/((1+r)^n-1)\n",
    "\n",
    "# Monthly Interest Rate (r) = R/(12*100)\n",
    "\n",
    "# p = Principal\n",
    "# r = Interest Rate as a monthly percentage\n",
    "# n = Number of monthly installments\n",
    "\n",
    "# User Input\n",
    "p = float(input(\"Enter mortgage loan principal amount: \"))\n",
    "R = float(input(\"Enter the \\%\\ annual interest rate: \"))\n",
    "N = int(input(\"Enter the number of years to pay off mortgage: \" ))\n",
    "\n",
    "# Calculating interest rate per month\n",
    "r = R/(12*100)\n",
    "\n",
    "# Calculating number of monthly installments\n",
    "n = N * 12\n",
    "\n",
    "\n",
    "#Calculating monlthy and total payments with commas and 2 decimal places\n",
    "total_monthly_payment = p * r * ((1+r)**n)/((1+r)**n - 1)\n",
    "total_paid = '{:,.2f}'.format(total_monthly_payment * n)\n",
    "\n",
    "total_monthly_payment = '{:,.2f}'.format(total_monthly_payment)\n",
    "p = '{:,.2f}'.format(p)\n",
    "\n",
    "print (f'For a {N}-year loan of ${p} at an annual interest rate of {R}% you pay \\n \\n \\n$',total_monthly_payment, 'monthly')\n",
    "print('\\n','\\n', sep=\"-------------------------------------------\")\n",
    "print ('Total amount to be paid will be $',total_paid)\n",
    "print('\\n','\\n', sep=\"-------------------------------------------\")"
   ]
  }
 ],
 "metadata": {
  "kernelspec": {
   "display_name": "Python 3",
   "language": "python",
   "name": "python3"
  },
  "language_info": {
   "codemirror_mode": {
    "name": "ipython",
    "version": 3
   },
   "file_extension": ".py",
   "mimetype": "text/x-python",
   "name": "python",
   "nbconvert_exporter": "python",
   "pygments_lexer": "ipython3",
   "version": "3.11.2"
  },
  "orig_nbformat": 4
 },
 "nbformat": 4,
 "nbformat_minor": 2
}
